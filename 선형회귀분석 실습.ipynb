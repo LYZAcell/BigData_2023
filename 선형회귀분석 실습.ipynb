{
 "cells": [
  {
   "cell_type": "markdown",
   "metadata": {},
   "source": [
    "### 선형회귀분석 이론 복습 겸 코드 분석\n",
    "\n",
    "https://data-marketing-bk.tistory.com/m/entry/Python-%EC%84%A0%ED%98%95%ED%9A%8C%EA%B7%80%EB%B6%84%EC%84%9D%EC%9D%84-%EC%9D%B4%EB%A1%A0-%EA%B2%B0%EA%B3%BC%ED%95%B4%EC%84%9D-%EA%B7%B8%EB%A6%AC%EA%B3%A0-%EC%BD%94%EB%93%9C%EA%B9%8C%EC%A7%80-Linear-Regression-Model\n",
    "\n",
    "\n",
    "- 회귀분석 결과 해석 방법 SDEM(Significance-Direction-EffectSize-Modelfitting)\n"
   ]
  },
  {
   "cell_type": "markdown",
   "metadata": {},
   "source": [
    "### 데이터셋 설명\n",
    "\n",
    "- 데이터셋 출처: Kaggle House Prices - Advanced Regression Techniques\n",
    "- 중요 Column 및 변수 설명\n",
    "- year_built: 건물이 지어진 연도 - 종속변수\n",
    "- sale_price: 부동산 판매 가격 - 독립변수"
   ]
  },
  {
   "cell_type": "code",
   "execution_count": 1,
   "metadata": {},
   "outputs": [],
   "source": [
    "import pandas as pd\n",
    "import numpy as np\n",
    "import seaborn as sns\n",
    "import matplotlib.pyplot as plt\n",
    "%matplotlib inline\n",
    " \n",
    "from sklearn.linear_model import LinearRegression\n",
    "\n",
    "## 데이터셋 불러오기 & 기초 전처리\n",
    "r1 = pd.read_csv('train.csv')\n",
    "r1.columns = [ r1.columns[i].lower() for i in range(len(r1.columns)) ]\n",
    "t1 = r1.query('yearbuilt >= 1980').reset_index(drop = True)"
   ]
  },
  {
   "cell_type": "markdown",
   "metadata": {},
   "source": [
    "#### 데이터 분석 목적1 - 이해 & 인과관계 관측을 위한 데이터 분석 (SDEM)"
   ]
  },
  {
   "cell_type": "code",
   "execution_count": 2,
   "metadata": {},
   "outputs": [
    {
     "name": "stdout",
     "output_type": "stream",
     "text": [
      "                            OLS Regression Results                            \n",
      "==============================================================================\n",
      "Dep. Variable:              saleprice   R-squared:                       0.052\n",
      "Model:                            OLS   Adj. R-squared:                  0.051\n",
      "Method:                 Least Squares   F-statistic:                     33.62\n",
      "Date:                Thu, 15 Feb 2024   Prob (F-statistic):           1.08e-08\n",
      "Time:                        17:29:05   Log-Likelihood:                -7793.5\n",
      "No. Observations:                 612   AIC:                         1.559e+04\n",
      "Df Residuals:                     610   BIC:                         1.560e+04\n",
      "Df Model:                           1                                         \n",
      "Covariance Type:            nonrobust                                         \n",
      "==============================================================================\n",
      "                 coef    std err          t      P>|t|      [0.025      0.975]\n",
      "------------------------------------------------------------------------------\n",
      "const      -5.142e+06   9.27e+05     -5.546      0.000   -6.96e+06   -3.32e+06\n",
      "yearbuilt   2687.4809    463.526      5.798      0.000    1777.180    3597.782\n",
      "==============================================================================\n",
      "Omnibus:                      289.956   Durbin-Watson:                   2.058\n",
      "Prob(Omnibus):                  0.000   Jarque-Bera (JB):             1800.514\n",
      "Skew:                           2.036   Prob(JB):                         0.00\n",
      "Kurtosis:                      10.351   Cond. No.                     5.58e+05\n",
      "==============================================================================\n",
      "\n",
      "Warnings:\n",
      "[1] Standard Errors assume that the covariance matrix of the errors is correctly specified.\n",
      "[2] The condition number is large, 5.58e+05. This might indicate that there are\n",
      "strong multicollinearity or other numerical problems.\n"
     ]
    }
   ],
   "source": [
    "import statsmodels.api as sm\n",
    " \n",
    "#define response variable\n",
    "y = t1.saleprice\n",
    " \n",
    "#define predictor variables\n",
    "x = t1.yearbuilt\n",
    " \n",
    "#add constant to predictor variables\n",
    "x = sm.add_constant(x)\n",
    " \n",
    "#fit linear regression model\n",
    "model = sm.OLS(y, x).fit()\n",
    " \n",
    "#view model summary\n",
    "print(model.summary())"
   ]
  },
  {
   "cell_type": "markdown",
   "metadata": {},
   "source": [
    "### 분석\n",
    "\n",
    "- yearbuilt P>t 0에 수렴-> 유의미한 결과\n",
    "- direction-> coef가 양의 방향성 \n",
    "- effectsize -> 효과크기의 경우 2687오르는 것 확인\n",
    "- Modelfit: R제곱/수정 R제곱 => 0.051~52\n",
    "    - 전체 데이터셋에서 부동산 가격에 영향 주는 정도가 5.1~2%가량"
   ]
  },
  {
   "cell_type": "markdown",
   "metadata": {},
   "source": [
    "## 간단한 ML 예측 분석"
   ]
  },
  {
   "cell_type": "code",
   "execution_count": 3,
   "metadata": {},
   "outputs": [
    {
     "name": "stdout",
     "output_type": "stream",
     "text": [
      "2010년 건축 부동산 예측 가격:259896.04673457146\n",
      "X변수 계수: 2687.480898014588\n"
     ]
    }
   ],
   "source": [
    "## 변수의 선언\n",
    "x = t1.yearbuilt\n",
    "y = t1.saleprice\n",
    " \n",
    " \n",
    "## 모델의 선언\n",
    "linear_regression = LinearRegression()\n",
    " \n",
    "## 모델-데이터셋의 학습 진행\n",
    "linear_regression.fit(x.values.reshape(-1,1), y)\n",
    " \n",
    " \n",
    "## 예측 실행\n",
    "print( '2010년 건축 부동산 예측 가격:{}'.format(linear_regression.predict([[2010]])[0])\n",
    "    , 'X변수 계수: {}'.format(linear_regression.coef_[0])\n",
    "    , sep = '\\n')\n"
   ]
  },
  {
   "cell_type": "code",
   "execution_count": null,
   "metadata": {},
   "outputs": [],
   "source": []
  }
 ],
 "metadata": {
  "kernelspec": {
   "display_name": "Python 3",
   "language": "python",
   "name": "python3"
  },
  "language_info": {
   "codemirror_mode": {
    "name": "ipython",
    "version": 3
   },
   "file_extension": ".py",
   "mimetype": "text/x-python",
   "name": "python",
   "nbconvert_exporter": "python",
   "pygments_lexer": "ipython3",
   "version": "3.7.6"
  }
 },
 "nbformat": 4,
 "nbformat_minor": 4
}
